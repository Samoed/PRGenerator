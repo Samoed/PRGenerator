{
 "cells": [
  {
   "cell_type": "code",
   "execution_count": 1,
   "metadata": {
    "id": "_GiKM2N1EvP5"
   },
   "outputs": [],
   "source": [
    "import os\n",
    "import re\n",
    "\n",
    "import pandas as pd\n",
    "from tqdm import tqdm"
   ]
  },
  {
   "cell_type": "code",
   "execution_count": 2,
   "metadata": {
    "id": "5kDSbUfxPyH6"
   },
   "outputs": [],
   "source": [
    "def check_file_type(path):\n",
    "    if path.endswith(\".parquet\"):\n",
    "        return pd.read_parquet(path)\n",
    "    if path.endswith(\".csv\"):\n",
    "        return pd.read_csv(path)"
   ]
  },
  {
   "cell_type": "code",
   "execution_count": 3,
   "metadata": {
    "id": "axGht2hMMw8M"
   },
   "outputs": [],
   "source": [
    "def extract_string(df, left: str, right: str):\n",
    "    # Escape start and end if they are regex special characters\n",
    "    start = re.escape(left)\n",
    "    end = re.escape(right)\n",
    "\n",
    "    # Define the regex pattern to extract the substring between start and end\n",
    "    pattern = rf\"{start}(.*?){end}\"\n",
    "\n",
    "    def extract_match(text):\n",
    "        if isinstance(text, str):  # Ensure the text is a string\n",
    "            # print(text, pattern)\n",
    "            text = text.replace(\"\\n\", \"\").replace(\"\\r\", \"\")\n",
    "            match = re.search(pattern, text, re.DOTALL)\n",
    "            return match.group(1) if match else None\n",
    "        return None\n",
    "\n",
    "    # Apply the regex pattern to the specified column and create a new column with the results\n",
    "    df[\"generated_val\"] = df[\"generated\"].apply(extract_match)\n",
    "    df = df.drop(columns=[\"generated\"])\n",
    "    return df"
   ]
  },
  {
   "cell_type": "code",
   "execution_count": 4,
   "metadata": {},
   "outputs": [],
   "source": [
    "paths = [\n",
    "    # bool = is llama\n",
    "    (\"PRGen-llama-3-8b-Instruct-bnb-4bit-4bit-LoRA_out.csv\", True),\n",
    "    (\"Phi-3-mini-4k-instruct_val.csv\", False),\n",
    "    (\"llama-3-8b-Instruct-bnb-4bit_val.csv\", True),\n",
    "    (\"loraphi_val.csv\", False),\n",
    "]"
   ]
  },
  {
   "cell_type": "code",
   "execution_count": 5,
   "metadata": {},
   "outputs": [],
   "source": [
    "llama_template = (\"<|start_header_id|>assistant<|end_header_id|>\", \"<|eot_id|>\")\n",
    "phi_template = (\"<|end|><|assistant|>\", \"<|end|>\")"
   ]
  },
  {
   "cell_type": "code",
   "execution_count": 6,
   "metadata": {
    "colab": {
     "base_uri": "https://localhost:8080/"
    },
    "id": "OtCnK2wI4Fk5",
    "outputId": "8d4768d7-ed20-4ddf-ec4d-040b9b8c3da9"
   },
   "outputs": [
    {
     "name": "stderr",
     "output_type": "stream",
     "text": [
      "  0%|          | 0/4 [00:00<?, ?it/s]"
     ]
    },
    {
     "name": "stderr",
     "output_type": "stream",
     "text": [
      "100%|██████████| 4/4 [00:01<00:00,  2.06it/s]\n"
     ]
    }
   ],
   "source": [
    "directory = \"generated/\"\n",
    "results = {}\n",
    "\n",
    "for path, is_llama in tqdm(paths, total=len(paths)):\n",
    "    df = pd.read_csv(directory + path)\n",
    "    if is_llama:\n",
    "        df = extract_string(df, *llama_template)\n",
    "    else:\n",
    "        df = extract_string(df, *phi_template)\n",
    "    results[path] = df\n",
    "    if not os.path.exists(\"output\"):\n",
    "        os.makedirs(\"output\")\n",
    "    df.to_csv(f\"output/{path}\", index=False)"
   ]
  },
  {
   "cell_type": "code",
   "execution_count": null,
   "metadata": {},
   "outputs": [],
   "source": []
  }
 ],
 "metadata": {
  "colab": {
   "provenance": []
  },
  "kernelspec": {
   "display_name": "Python 3",
   "name": "python3"
  },
  "language_info": {
   "codemirror_mode": {
    "name": "ipython",
    "version": 3
   },
   "file_extension": ".py",
   "mimetype": "text/x-python",
   "name": "python",
   "nbconvert_exporter": "python",
   "pygments_lexer": "ipython3",
   "version": "3.10.4"
  }
 },
 "nbformat": 4,
 "nbformat_minor": 0
}
