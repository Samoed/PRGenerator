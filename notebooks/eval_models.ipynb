{
 "cells": [
  {
   "cell_type": "code",
   "execution_count": 12,
   "metadata": {},
   "outputs": [],
   "source": [
    "from collections import defaultdict\n",
    "\n",
    "import evaluate\n",
    "import numpy as np\n",
    "import pandas as pd\n",
    "import wandb\n",
    "from tqdm import tqdm"
   ]
  },
  {
   "cell_type": "code",
   "execution_count": 6,
   "metadata": {},
   "outputs": [],
   "source": [
    "paths = [\n",
    "    (\"Phi-3-mini-4k-instruct_val.csv\", \"Phi-3\"),\n",
    "    (\"loraphi_val.csv\", \"Lora-Phi-3\"),\n",
    "    (\"llama-3-8b-Instruct-bnb-4bit_val.csv\", \"Llama-3-8b\"),\n",
    "    (\"PRGen-llama-3-8b-Instruct-bnb-4bit-4bit-LoRA_out.csv\", \"Lora-Llama-3-8b\"),\n",
    "]"
   ]
  },
  {
   "cell_type": "code",
   "execution_count": 11,
   "metadata": {},
   "outputs": [
    {
     "data": {
      "application/vnd.jupyter.widget-view+json": {
       "model_id": "0a5c3094515b4ea3b4d8299147deb903",
       "version_major": 2,
       "version_minor": 0
      },
      "text/plain": [
       "Downloading builder script:   0%|          | 0.00/6.27k [00:00<?, ?B/s]"
      ]
     },
     "metadata": {},
     "output_type": "display_data"
    },
    {
     "data": {
      "application/vnd.jupyter.widget-view+json": {
       "model_id": "9b8461157e1e4b7e9f4fabd1ad939b6e",
       "version_major": 2,
       "version_minor": 0
      },
      "text/plain": [
       "Downloading builder script:   0%|          | 0.00/9.01k [00:00<?, ?B/s]"
      ]
     },
     "metadata": {},
     "output_type": "display_data"
    }
   ],
   "source": [
    "bertscore = evaluate.load(\"bertscore\")\n",
    "rouge = evaluate.load(\"rouge\")\n",
    "chrf = evaluate.load(\"chrf\")\n",
    "\n",
    "\n",
    "def compute_metrics(predictions, labels):\n",
    "    rouge_score = rouge.compute(predictions=predictions, references=labels)\n",
    "    bert_score = bertscore.compute(predictions=predictions, references=[[label] for label in labels], lang=\"en\")\n",
    "\n",
    "    chrf_score = chrf.compute(predictions=predictions, references=labels, word_order=2)\n",
    "\n",
    "    processed_bert_score = defaultdict(list)\n",
    "    for key, value in bert_score.items():\n",
    "        if key == \"hashcode\":\n",
    "            continue\n",
    "        for _, v in enumerate(value):\n",
    "            processed_bert_score[key].append(v)\n",
    "\n",
    "    bert_score_result = {}\n",
    "    for key, value in processed_bert_score.items():\n",
    "        key_name = key.split(\"/\")[-1]\n",
    "        bert_score_result[\"bert_\" + key_name] = np.mean(value)\n",
    "\n",
    "    return rouge_score | bert_score_result | chrf_score"
   ]
  },
  {
   "cell_type": "code",
   "execution_count": null,
   "metadata": {},
   "outputs": [],
   "source": [
    "for path, exp_name in tqdm(paths):\n",
    "    df = pd.read_csv(\"output/\" + path)\n",
    "    predictions = df[\"generated_val\"].tolist()\n",
    "    labels = df[\"target\"].tolist()\n",
    "\n",
    "    wandb.init(\n",
    "        project=\"PRGen\",\n",
    "        name=f\"Evaluate {exp_name}\",\n",
    "        params={\n",
    "            \"max_new_tokens\": 1024,\n",
    "            \"temperature\": 0.1,\n",
    "            \"top_p\": 0.9,\n",
    "        },\n",
    "    )\n",
    "    metrics = compute_metrics(predictions, labels)\n",
    "    wandb.log(metrics)\n",
    "    wandb.finish()"
   ]
  },
  {
   "cell_type": "code",
   "execution_count": null,
   "metadata": {},
   "outputs": [],
   "source": []
  }
 ],
 "metadata": {
  "kernelspec": {
   "display_name": "Python 3",
   "language": "python",
   "name": "python3"
  },
  "language_info": {
   "codemirror_mode": {
    "name": "ipython",
    "version": 3
   },
   "file_extension": ".py",
   "mimetype": "text/x-python",
   "name": "python",
   "nbconvert_exporter": "python",
   "pygments_lexer": "ipython3",
   "version": "3.10.4"
  }
 },
 "nbformat": 4,
 "nbformat_minor": 2
}
