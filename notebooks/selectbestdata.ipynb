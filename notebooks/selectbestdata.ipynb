{
 "cells": [
  {
   "cell_type": "code",
   "execution_count": 1,
   "id": "8d90ab2c",
   "metadata": {
    "_cell_guid": "b1076dfc-b9ad-4769-8c92-a6c4dae69d19",
    "_uuid": "8f2839f25d086af736a60e9eeb907d3b93b6e0e5",
    "execution": {
     "iopub.execute_input": "2024-04-29T21:27:06.010365Z",
     "iopub.status.busy": "2024-04-29T21:27:06.009886Z",
     "iopub.status.idle": "2024-04-29T21:27:06.851408Z",
     "shell.execute_reply": "2024-04-29T21:27:06.850498Z"
    },
    "papermill": {
     "duration": 0.852015,
     "end_time": "2024-04-29T21:27:06.854111",
     "exception": false,
     "start_time": "2024-04-29T21:27:06.002096",
     "status": "completed"
    },
    "tags": []
   },
   "outputs": [],
   "source": [
    "import os\n",
    "\n",
    "import pandas as pd  # data processing, CSV file I/O (e.g. pd.read_csv)\n",
    "from tqdm import tqdm\n",
    "\n",
    "tqdm.pandas()"
   ]
  },
  {
   "cell_type": "code",
   "execution_count": 2,
   "id": "ccab47ab",
   "metadata": {
    "execution": {
     "iopub.execute_input": "2024-04-29T21:27:06.867139Z",
     "iopub.status.busy": "2024-04-29T21:27:06.866244Z",
     "iopub.status.idle": "2024-04-29T21:27:16.386357Z",
     "shell.execute_reply": "2024-04-29T21:27:16.385225Z"
    },
    "papermill": {
     "duration": 9.529094,
     "end_time": "2024-04-29T21:27:16.388948",
     "exception": false,
     "start_time": "2024-04-29T21:27:06.859854",
     "status": "completed"
    },
    "tags": []
   },
   "outputs": [
    {
     "data": {
      "application/vnd.jupyter.widget-view+json": {
       "model_id": "b5d28a95e6974de2857f3a044f4dcb30",
       "version_major": 2,
       "version_minor": 0
      },
      "text/plain": [
       "tokenizer_config.json:   0%|          | 0.00/50.6k [00:00<?, ?B/s]"
      ]
     },
     "metadata": {},
     "output_type": "display_data"
    },
    {
     "data": {
      "application/vnd.jupyter.widget-view+json": {
       "model_id": "1f1ba9e3f60e4075b8c7812c4febe28c",
       "version_major": 2,
       "version_minor": 0
      },
      "text/plain": [
       "tokenizer.json:   0%|          | 0.00/9.09M [00:00<?, ?B/s]"
      ]
     },
     "metadata": {},
     "output_type": "display_data"
    },
    {
     "data": {
      "application/vnd.jupyter.widget-view+json": {
       "model_id": "8f2cb2acc024417bb968375de1359d6a",
       "version_major": 2,
       "version_minor": 0
      },
      "text/plain": [
       "special_tokens_map.json:   0%|          | 0.00/449 [00:00<?, ?B/s]"
      ]
     },
     "metadata": {},
     "output_type": "display_data"
    },
    {
     "name": "stderr",
     "output_type": "stream",
     "text": [
      "Special tokens have been added in the vocabulary, make sure the associated word embeddings are fine-tuned or trained.\n"
     ]
    }
   ],
   "source": [
    "from transformers import AutoTokenizer\n",
    "\n",
    "tokenizer = AutoTokenizer.from_pretrained(\"unsloth/llama-3-8b-bnb-4bit\")"
   ]
  },
  {
   "cell_type": "code",
   "execution_count": 3,
   "id": "7a60fea0",
   "metadata": {
    "execution": {
     "iopub.execute_input": "2024-04-29T21:27:16.402678Z",
     "iopub.status.busy": "2024-04-29T21:27:16.402168Z",
     "iopub.status.idle": "2024-04-29T21:28:33.199431Z",
     "shell.execute_reply": "2024-04-29T21:28:33.198312Z"
    },
    "papermill": {
     "duration": 76.806699,
     "end_time": "2024-04-29T21:28:33.201788",
     "exception": false,
     "start_time": "2024-04-29T21:27:16.395089",
     "status": "completed"
    },
    "tags": []
   },
   "outputs": [
    {
     "name": "stderr",
     "output_type": "stream",
     "text": [
      "100%|██████████| 86/86 [01:16<00:00,  1.12it/s]\n"
     ]
    },
    {
     "data": {
      "text/html": [
       "<div>\n",
       "<style scoped>\n",
       "    .dataframe tbody tr th:only-of-type {\n",
       "        vertical-align: middle;\n",
       "    }\n",
       "\n",
       "    .dataframe tbody tr th {\n",
       "        vertical-align: top;\n",
       "    }\n",
       "\n",
       "    .dataframe thead th {\n",
       "        text-align: right;\n",
       "    }\n",
       "</style>\n",
       "<table border=\"1\" class=\"dataframe\">\n",
       "  <thead>\n",
       "    <tr style=\"text-align: right;\">\n",
       "      <th></th>\n",
       "      <th>title</th>\n",
       "      <th>diff</th>\n",
       "      <th>body</th>\n",
       "      <th>url</th>\n",
       "      <th>created_at</th>\n",
       "      <th>closed_at</th>\n",
       "      <th>merged_at</th>\n",
       "      <th>updated_at</th>\n",
       "      <th>diff_len</th>\n",
       "    </tr>\n",
       "  </thead>\n",
       "  <tbody>\n",
       "    <tr>\n",
       "      <th>0</th>\n",
       "      <td>Add acme library usage example (http-01)</td>\n",
       "      <td>diff --git a/acme/examples/http01_example.py b...</td>\n",
       "      <td>Here is a usage example of the ACME API explor...</td>\n",
       "      <td>https://api.github.com/repos/certbot/certbot/p...</td>\n",
       "      <td>2018-01-26T08:48:31Z</td>\n",
       "      <td>2019-02-23T02:02:43Z</td>\n",
       "      <td>2019-02-23T02:02:43Z</td>\n",
       "      <td>2022-09-10T18:42:56Z</td>\n",
       "      <td>NaN</td>\n",
       "    </tr>\n",
       "    <tr>\n",
       "      <th>1</th>\n",
       "      <td>Land release changes</td>\n",
       "      <td>diff --git a/acme/setup.py b/acme/setup.py\\nin...</td>\n",
       "      <td>This PR should be merged and not squashed to k...</td>\n",
       "      <td>https://api.github.com/repos/certbot/certbot/p...</td>\n",
       "      <td>2018-01-25T21:51:18Z</td>\n",
       "      <td>2018-01-25T22:20:44Z</td>\n",
       "      <td>2018-01-25T22:20:44Z</td>\n",
       "      <td>2018-01-25T22:21:13Z</td>\n",
       "      <td>NaN</td>\n",
       "    </tr>\n",
       "    <tr>\n",
       "      <th>2</th>\n",
       "      <td>Update certbot-auto and help</td>\n",
       "      <td>diff --git a/certbot-auto b/certbot-auto\\ninde...</td>\n",
       "      <td></td>\n",
       "      <td>https://api.github.com/repos/certbot/certbot/p...</td>\n",
       "      <td>2018-01-25T21:50:42Z</td>\n",
       "      <td>2018-01-25T23:29:39Z</td>\n",
       "      <td>2018-01-25T23:29:39Z</td>\n",
       "      <td>2018-01-25T23:29:42Z</td>\n",
       "      <td>NaN</td>\n",
       "    </tr>\n",
       "    <tr>\n",
       "      <th>3</th>\n",
       "      <td>Fix --no-bootstrap on CentOS/RHEL 6</td>\n",
       "      <td>diff --git a/letsencrypt-auto-source/letsencry...</td>\n",
       "      <td>Cherry picked from #5476</td>\n",
       "      <td>https://api.github.com/repos/certbot/certbot/p...</td>\n",
       "      <td>2018-01-25T06:25:42Z</td>\n",
       "      <td>2018-01-25T06:59:20Z</td>\n",
       "      <td>2018-01-25T06:59:20Z</td>\n",
       "      <td>2018-01-25T06:59:25Z</td>\n",
       "      <td>NaN</td>\n",
       "    </tr>\n",
       "    <tr>\n",
       "      <th>4</th>\n",
       "      <td>Fix Nginx redirect issue</td>\n",
       "      <td>diff --git a/certbot-nginx/certbot_nginx/confi...</td>\n",
       "      <td>Cherry picks code from #5479.</td>\n",
       "      <td>https://api.github.com/repos/certbot/certbot/p...</td>\n",
       "      <td>2018-01-25T06:24:07Z</td>\n",
       "      <td>2018-01-25T06:49:52Z</td>\n",
       "      <td>2018-01-25T06:49:52Z</td>\n",
       "      <td>2018-01-25T06:49:55Z</td>\n",
       "      <td>NaN</td>\n",
       "    </tr>\n",
       "  </tbody>\n",
       "</table>\n",
       "</div>"
      ],
      "text/plain": [
       "                                      title  \\\n",
       "0  Add acme library usage example (http-01)   \n",
       "1                      Land release changes   \n",
       "2              Update certbot-auto and help   \n",
       "3       Fix --no-bootstrap on CentOS/RHEL 6   \n",
       "4                  Fix Nginx redirect issue   \n",
       "\n",
       "                                                diff  \\\n",
       "0  diff --git a/acme/examples/http01_example.py b...   \n",
       "1  diff --git a/acme/setup.py b/acme/setup.py\\nin...   \n",
       "2  diff --git a/certbot-auto b/certbot-auto\\ninde...   \n",
       "3  diff --git a/letsencrypt-auto-source/letsencry...   \n",
       "4  diff --git a/certbot-nginx/certbot_nginx/confi...   \n",
       "\n",
       "                                                body  \\\n",
       "0  Here is a usage example of the ACME API explor...   \n",
       "1  This PR should be merged and not squashed to k...   \n",
       "2                                                      \n",
       "3                           Cherry picked from #5476   \n",
       "4                      Cherry picks code from #5479.   \n",
       "\n",
       "                                                 url            created_at  \\\n",
       "0  https://api.github.com/repos/certbot/certbot/p...  2018-01-26T08:48:31Z   \n",
       "1  https://api.github.com/repos/certbot/certbot/p...  2018-01-25T21:51:18Z   \n",
       "2  https://api.github.com/repos/certbot/certbot/p...  2018-01-25T21:50:42Z   \n",
       "3  https://api.github.com/repos/certbot/certbot/p...  2018-01-25T06:25:42Z   \n",
       "4  https://api.github.com/repos/certbot/certbot/p...  2018-01-25T06:24:07Z   \n",
       "\n",
       "              closed_at             merged_at            updated_at  diff_len  \n",
       "0  2019-02-23T02:02:43Z  2019-02-23T02:02:43Z  2022-09-10T18:42:56Z       NaN  \n",
       "1  2018-01-25T22:20:44Z  2018-01-25T22:20:44Z  2018-01-25T22:21:13Z       NaN  \n",
       "2  2018-01-25T23:29:39Z  2018-01-25T23:29:39Z  2018-01-25T23:29:42Z       NaN  \n",
       "3  2018-01-25T06:59:20Z  2018-01-25T06:59:20Z  2018-01-25T06:59:25Z       NaN  \n",
       "4  2018-01-25T06:49:52Z  2018-01-25T06:49:52Z  2018-01-25T06:49:55Z       NaN  "
      ]
     },
     "execution_count": 3,
     "metadata": {},
     "output_type": "execute_result"
    }
   ],
   "source": [
    "df = None\n",
    "path = \"/kaggle/input/preprocesseddataset/merged_prs\"\n",
    "for file in tqdm(os.listdir(path)):\n",
    "    if not file.endswith(\".parquet\"):\n",
    "        continue\n",
    "    if df is None:\n",
    "        df = pd.read_parquet(f\"{path}/{file}\")\n",
    "    else:\n",
    "        tmp_df = pd.read_parquet(f\"{path}/{file}\")\n",
    "        tmp_df[\"diff_len\"] = tmp_df[\"diff\"].str.len()\n",
    "        tmp_df = tmp_df[tmp_df[\"diff_len\"] < 100_000]\n",
    "        df = pd.concat([df, tmp_df.sample(min(1_000, tmp_df.shape[0]))], ignore_index=True)\n",
    "df = df.reset_index(drop=True)\n",
    "df[\"body\"] = df[\"body\"].fillna(\"\")\n",
    "df = df[df[\"diff\"].str.len() > 0]\n",
    "df.head()"
   ]
  },
  {
   "cell_type": "code",
   "execution_count": 4,
   "id": "37c68542",
   "metadata": {
    "execution": {
     "iopub.execute_input": "2024-04-29T21:28:33.225760Z",
     "iopub.status.busy": "2024-04-29T21:28:33.225385Z",
     "iopub.status.idle": "2024-04-29T21:28:33.313836Z",
     "shell.execute_reply": "2024-04-29T21:28:33.313003Z"
    },
    "papermill": {
     "duration": 0.10366,
     "end_time": "2024-04-29T21:28:33.316231",
     "exception": false,
     "start_time": "2024-04-29T21:28:33.212571",
     "status": "completed"
    },
    "tags": []
   },
   "outputs": [],
   "source": [
    "df[\"repo_name\"] = df[\"url\"].apply(lambda x: x.split(\"/\")[4] + \"/\" + x.split(\"/\")[5])"
   ]
  },
  {
   "cell_type": "code",
   "execution_count": 5,
   "id": "dcc0ddc7",
   "metadata": {
    "execution": {
     "iopub.execute_input": "2024-04-29T21:28:33.339020Z",
     "iopub.status.busy": "2024-04-29T21:28:33.338676Z",
     "iopub.status.idle": "2024-04-29T21:28:33.343954Z",
     "shell.execute_reply": "2024-04-29T21:28:33.342877Z"
    },
    "papermill": {
     "duration": 0.019804,
     "end_time": "2024-04-29T21:28:33.346494",
     "exception": false,
     "start_time": "2024-04-29T21:28:33.326690",
     "status": "completed"
    },
    "tags": []
   },
   "outputs": [],
   "source": [
    "diff = \"\"\n",
    "\n",
    "\n",
    "def count_tokens(row):\n",
    "    diff = row[\"diff\"]\n",
    "    return len(tokenizer.encode(diff))"
   ]
  },
  {
   "cell_type": "code",
   "execution_count": 6,
   "id": "1e28a8c9",
   "metadata": {
    "execution": {
     "iopub.execute_input": "2024-04-29T21:28:33.370548Z",
     "iopub.status.busy": "2024-04-29T21:28:33.370029Z",
     "iopub.status.idle": "2024-04-29T21:31:30.640989Z",
     "shell.execute_reply": "2024-04-29T21:31:30.639963Z"
    },
    "papermill": {
     "duration": 177.286463,
     "end_time": "2024-04-29T21:31:30.643404",
     "exception": false,
     "start_time": "2024-04-29T21:28:33.356941",
     "status": "completed"
    },
    "tags": []
   },
   "outputs": [
    {
     "name": "stderr",
     "output_type": "stream",
     "text": [
      "  0%|          | 0/30000 [00:00<?, ?it/s]Token indices sequence length is longer than the specified maximum sequence length for this model (8912 > 8192). Running this sequence through the model will result in indexing errors\n",
      "100%|██████████| 30000/30000 [02:57<00:00, 169.26it/s]\n"
     ]
    }
   ],
   "source": [
    "df[\"diff_len\"] = df.sample(30_000).progress_apply(count_tokens, axis=1)"
   ]
  },
  {
   "cell_type": "code",
   "execution_count": 7,
   "id": "a5fa5dda",
   "metadata": {
    "execution": {
     "iopub.execute_input": "2024-04-29T21:31:30.949915Z",
     "iopub.status.busy": "2024-04-29T21:31:30.949530Z",
     "iopub.status.idle": "2024-04-29T21:31:30.965484Z",
     "shell.execute_reply": "2024-04-29T21:31:30.964745Z"
    },
    "papermill": {
     "duration": 0.200249,
     "end_time": "2024-04-29T21:31:30.967648",
     "exception": false,
     "start_time": "2024-04-29T21:31:30.767399",
     "status": "completed"
    },
    "tags": []
   },
   "outputs": [],
   "source": [
    "df = df[(df[\"diff_len\"] < 4_000) & (df[\"diff_len\"] > 100)]"
   ]
  },
  {
   "cell_type": "code",
   "execution_count": 8,
   "id": "f359c2c9",
   "metadata": {
    "execution": {
     "iopub.execute_input": "2024-04-29T21:31:31.222858Z",
     "iopub.status.busy": "2024-04-29T21:31:31.222121Z",
     "iopub.status.idle": "2024-04-29T21:31:31.236276Z",
     "shell.execute_reply": "2024-04-29T21:31:31.235233Z"
    },
    "papermill": {
     "duration": 0.145345,
     "end_time": "2024-04-29T21:31:31.238433",
     "exception": false,
     "start_time": "2024-04-29T21:31:31.093088",
     "status": "completed"
    },
    "tags": []
   },
   "outputs": [
    {
     "data": {
      "text/plain": [
       "count    26100.000000\n",
       "mean       817.421456\n",
       "std        850.599546\n",
       "min        101.000000\n",
       "25%        229.000000\n",
       "50%        458.000000\n",
       "75%       1067.000000\n",
       "max       3999.000000\n",
       "Name: diff_len, dtype: float64"
      ]
     },
     "execution_count": 8,
     "metadata": {},
     "output_type": "execute_result"
    }
   ],
   "source": [
    "df[\"diff_len\"].describe()"
   ]
  },
  {
   "cell_type": "code",
   "execution_count": 9,
   "id": "94ed9ccf",
   "metadata": {
    "execution": {
     "iopub.execute_input": "2024-04-29T21:31:31.496338Z",
     "iopub.status.busy": "2024-04-29T21:31:31.495356Z",
     "iopub.status.idle": "2024-04-29T21:31:31.511833Z",
     "shell.execute_reply": "2024-04-29T21:31:31.510889Z"
    },
    "papermill": {
     "duration": 0.146202,
     "end_time": "2024-04-29T21:31:31.514111",
     "exception": false,
     "start_time": "2024-04-29T21:31:31.367909",
     "status": "completed"
    },
    "tags": []
   },
   "outputs": [
    {
     "data": {
      "text/plain": [
       "repo_name\n",
       "certbot/certbot              1723\n",
       "psf/requests                  568\n",
       "django/django                 553\n",
       "ytdl-org/youtube-dl           545\n",
       "python/cpython                543\n",
       "commaai/openpilot             536\n",
       "ultralytics/yolov5            536\n",
       "scikit-learn/scikit-learn     529\n",
       "keras-team/keras              523\n",
       "psf/black                     519\n",
       "Name: count, dtype: int64"
      ]
     },
     "execution_count": 9,
     "metadata": {},
     "output_type": "execute_result"
    }
   ],
   "source": [
    "df[\"repo_name\"].value_counts().head(10)"
   ]
  },
  {
   "cell_type": "code",
   "execution_count": 10,
   "id": "2a4726d8",
   "metadata": {
    "execution": {
     "iopub.execute_input": "2024-04-29T21:31:31.769224Z",
     "iopub.status.busy": "2024-04-29T21:31:31.768739Z",
     "iopub.status.idle": "2024-04-29T21:31:32.923381Z",
     "shell.execute_reply": "2024-04-29T21:31:32.922447Z"
    },
    "papermill": {
     "duration": 1.282984,
     "end_time": "2024-04-29T21:31:32.926220",
     "exception": false,
     "start_time": "2024-04-29T21:31:31.643236",
     "status": "completed"
    },
    "tags": []
   },
   "outputs": [],
   "source": [
    "from sklearn.model_selection import train_test_split"
   ]
  },
  {
   "cell_type": "code",
   "execution_count": 11,
   "id": "de18dc94",
   "metadata": {
    "execution": {
     "iopub.execute_input": "2024-04-29T21:31:33.211175Z",
     "iopub.status.busy": "2024-04-29T21:31:33.210572Z",
     "iopub.status.idle": "2024-04-29T21:31:33.243926Z",
     "shell.execute_reply": "2024-04-29T21:31:33.243043Z"
    },
    "papermill": {
     "duration": 0.170166,
     "end_time": "2024-04-29T21:31:33.246163",
     "exception": false,
     "start_time": "2024-04-29T21:31:33.075997",
     "status": "completed"
    },
    "tags": []
   },
   "outputs": [],
   "source": [
    "df = df[df[\"repo_name\"].isin((df[\"repo_name\"].value_counts() > 10).index.tolist())]"
   ]
  },
  {
   "cell_type": "code",
   "execution_count": 12,
   "id": "545d63ad",
   "metadata": {
    "execution": {
     "iopub.execute_input": "2024-04-29T21:31:33.504621Z",
     "iopub.status.busy": "2024-04-29T21:31:33.504191Z",
     "iopub.status.idle": "2024-04-29T21:31:33.558675Z",
     "shell.execute_reply": "2024-04-29T21:31:33.557628Z"
    },
    "papermill": {
     "duration": 0.186385,
     "end_time": "2024-04-29T21:31:33.560949",
     "exception": false,
     "start_time": "2024-04-29T21:31:33.374564",
     "status": "completed"
    },
    "tags": []
   },
   "outputs": [],
   "source": [
    "train, other = train_test_split(df, test_size=2000, train_size=4000, stratify=df[\"repo_name\"])\n",
    "test, val = train_test_split(other, test_size=0.5, train_size=0.5)"
   ]
  },
  {
   "cell_type": "code",
   "execution_count": 13,
   "id": "061f47d0",
   "metadata": {
    "execution": {
     "iopub.execute_input": "2024-04-29T21:31:33.822846Z",
     "iopub.status.busy": "2024-04-29T21:31:33.822436Z",
     "iopub.status.idle": "2024-04-29T21:31:33.828722Z",
     "shell.execute_reply": "2024-04-29T21:31:33.827761Z"
    },
    "papermill": {
     "duration": 0.139439,
     "end_time": "2024-04-29T21:31:33.831066",
     "exception": false,
     "start_time": "2024-04-29T21:31:33.691627",
     "status": "completed"
    },
    "tags": []
   },
   "outputs": [
    {
     "data": {
      "text/plain": [
       "((4000, 10), (1000, 10), (1000, 10))"
      ]
     },
     "execution_count": 13,
     "metadata": {},
     "output_type": "execute_result"
    }
   ],
   "source": [
    "train.shape, test.shape, val.shape"
   ]
  },
  {
   "cell_type": "code",
   "execution_count": 14,
   "id": "9c4fa44a",
   "metadata": {
    "execution": {
     "iopub.execute_input": "2024-04-29T21:31:34.090174Z",
     "iopub.status.busy": "2024-04-29T21:31:34.089796Z",
     "iopub.status.idle": "2024-04-29T21:31:34.272963Z",
     "shell.execute_reply": "2024-04-29T21:31:34.272097Z"
    },
    "papermill": {
     "duration": 0.314115,
     "end_time": "2024-04-29T21:31:34.275507",
     "exception": false,
     "start_time": "2024-04-29T21:31:33.961392",
     "status": "completed"
    },
    "tags": []
   },
   "outputs": [],
   "source": [
    "train.to_parquet(\"sampled.parquet\")\n",
    "test.to_parquet(\"test.parquet\")\n",
    "val.to_parquet(\"val.parquet\")"
   ]
  },
  {
   "cell_type": "code",
   "execution_count": null,
   "id": "9d9b5c10",
   "metadata": {
    "papermill": {
     "duration": 0.130009,
     "end_time": "2024-04-29T21:31:34.536488",
     "exception": false,
     "start_time": "2024-04-29T21:31:34.406479",
     "status": "completed"
    },
    "tags": []
   },
   "outputs": [],
   "source": []
  }
 ],
 "metadata": {
  "kaggle": {
   "accelerator": "none",
   "dataSources": [
    {
     "datasetId": 4895847,
     "sourceId": 8251149,
     "sourceType": "datasetVersion"
    }
   ],
   "dockerImageVersionId": 30698,
   "isGpuEnabled": false,
   "isInternetEnabled": true,
   "language": "python",
   "sourceType": "notebook"
  },
  "kernelspec": {
   "display_name": "Python 3",
   "language": "python",
   "name": "python3"
  },
  "language_info": {
   "codemirror_mode": {
    "name": "ipython",
    "version": 3
   },
   "file_extension": ".py",
   "mimetype": "text/x-python",
   "name": "python",
   "nbconvert_exporter": "python",
   "pygments_lexer": "ipython3",
   "version": "3.10.13"
  },
  "papermill": {
   "default_parameters": {},
   "duration": 273.041224,
   "end_time": "2024-04-29T21:31:36.294288",
   "environment_variables": {},
   "exception": null,
   "input_path": "__notebook__.ipynb",
   "output_path": "__notebook__.ipynb",
   "parameters": {},
   "start_time": "2024-04-29T21:27:03.253064",
   "version": "2.5.0"
  },
  "widgets": {
   "application/vnd.jupyter.widget-state+json": {
    "state": {
     "044750ddeef7449883c1b3338fd602a1": {
      "model_module": "@jupyter-widgets/controls",
      "model_module_version": "1.5.0",
      "model_name": "ProgressStyleModel",
      "state": {
       "_model_module": "@jupyter-widgets/controls",
       "_model_module_version": "1.5.0",
       "_model_name": "ProgressStyleModel",
       "_view_count": null,
       "_view_module": "@jupyter-widgets/base",
       "_view_module_version": "1.2.0",
       "_view_name": "StyleView",
       "bar_color": null,
       "description_width": ""
      }
     },
     "1b4c4f47064a4c1abde402d1d1b93b77": {
      "model_module": "@jupyter-widgets/controls",
      "model_module_version": "1.5.0",
      "model_name": "DescriptionStyleModel",
      "state": {
       "_model_module": "@jupyter-widgets/controls",
       "_model_module_version": "1.5.0",
       "_model_name": "DescriptionStyleModel",
       "_view_count": null,
       "_view_module": "@jupyter-widgets/base",
       "_view_module_version": "1.2.0",
       "_view_name": "StyleView",
       "description_width": ""
      }
     },
     "1f1ba9e3f60e4075b8c7812c4febe28c": {
      "model_module": "@jupyter-widgets/controls",
      "model_module_version": "1.5.0",
      "model_name": "HBoxModel",
      "state": {
       "_dom_classes": [],
       "_model_module": "@jupyter-widgets/controls",
       "_model_module_version": "1.5.0",
       "_model_name": "HBoxModel",
       "_view_count": null,
       "_view_module": "@jupyter-widgets/controls",
       "_view_module_version": "1.5.0",
       "_view_name": "HBoxView",
       "box_style": "",
       "children": [
        "IPY_MODEL_d28e40c1f80f429890b6e9662377c717",
        "IPY_MODEL_74f3ede6deb34f61945e708d9fd6a1c1",
        "IPY_MODEL_d2643769f2d0480cb14d6fa0f2dcc18d"
       ],
       "layout": "IPY_MODEL_b8c3cceb52684d62b529e006a554ded2"
      }
     },
     "248f034562f840df8b5e0e5f9cf7f714": {
      "model_module": "@jupyter-widgets/base",
      "model_module_version": "1.2.0",
      "model_name": "LayoutModel",
      "state": {
       "_model_module": "@jupyter-widgets/base",
       "_model_module_version": "1.2.0",
       "_model_name": "LayoutModel",
       "_view_count": null,
       "_view_module": "@jupyter-widgets/base",
       "_view_module_version": "1.2.0",
       "_view_name": "LayoutView",
       "align_content": null,
       "align_items": null,
       "align_self": null,
       "border": null,
       "bottom": null,
       "display": null,
       "flex": null,
       "flex_flow": null,
       "grid_area": null,
       "grid_auto_columns": null,
       "grid_auto_flow": null,
       "grid_auto_rows": null,
       "grid_column": null,
       "grid_gap": null,
       "grid_row": null,
       "grid_template_areas": null,
       "grid_template_columns": null,
       "grid_template_rows": null,
       "height": null,
       "justify_content": null,
       "justify_items": null,
       "left": null,
       "margin": null,
       "max_height": null,
       "max_width": null,
       "min_height": null,
       "min_width": null,
       "object_fit": null,
       "object_position": null,
       "order": null,
       "overflow": null,
       "overflow_x": null,
       "overflow_y": null,
       "padding": null,
       "right": null,
       "top": null,
       "visibility": null,
       "width": null
      }
     },
     "2b9eea7912354008ab948ec788470b69": {
      "model_module": "@jupyter-widgets/base",
      "model_module_version": "1.2.0",
      "model_name": "LayoutModel",
      "state": {
       "_model_module": "@jupyter-widgets/base",
       "_model_module_version": "1.2.0",
       "_model_name": "LayoutModel",
       "_view_count": null,
       "_view_module": "@jupyter-widgets/base",
       "_view_module_version": "1.2.0",
       "_view_name": "LayoutView",
       "align_content": null,
       "align_items": null,
       "align_self": null,
       "border": null,
       "bottom": null,
       "display": null,
       "flex": null,
       "flex_flow": null,
       "grid_area": null,
       "grid_auto_columns": null,
       "grid_auto_flow": null,
       "grid_auto_rows": null,
       "grid_column": null,
       "grid_gap": null,
       "grid_row": null,
       "grid_template_areas": null,
       "grid_template_columns": null,
       "grid_template_rows": null,
       "height": null,
       "justify_content": null,
       "justify_items": null,
       "left": null,
       "margin": null,
       "max_height": null,
       "max_width": null,
       "min_height": null,
       "min_width": null,
       "object_fit": null,
       "object_position": null,
       "order": null,
       "overflow": null,
       "overflow_x": null,
       "overflow_y": null,
       "padding": null,
       "right": null,
       "top": null,
       "visibility": null,
       "width": null
      }
     },
     "2fc86e263f9b48bdbf00490be23f9fd3": {
      "model_module": "@jupyter-widgets/controls",
      "model_module_version": "1.5.0",
      "model_name": "HTMLModel",
      "state": {
       "_dom_classes": [],
       "_model_module": "@jupyter-widgets/controls",
       "_model_module_version": "1.5.0",
       "_model_name": "HTMLModel",
       "_view_count": null,
       "_view_module": "@jupyter-widgets/controls",
       "_view_module_version": "1.5.0",
       "_view_name": "HTMLView",
       "description": "",
       "description_tooltip": null,
       "layout": "IPY_MODEL_5727b542a0904f7c88302bf558bd20d5",
       "placeholder": "​",
       "style": "IPY_MODEL_b0a250ea9794484891926a6062f7497e",
       "value": " 449/449 [00:00&lt;00:00, 31.3kB/s]"
      }
     },
     "3fb2be96b8ba41248518fd0e772bd2d7": {
      "model_module": "@jupyter-widgets/base",
      "model_module_version": "1.2.0",
      "model_name": "LayoutModel",
      "state": {
       "_model_module": "@jupyter-widgets/base",
       "_model_module_version": "1.2.0",
       "_model_name": "LayoutModel",
       "_view_count": null,
       "_view_module": "@jupyter-widgets/base",
       "_view_module_version": "1.2.0",
       "_view_name": "LayoutView",
       "align_content": null,
       "align_items": null,
       "align_self": null,
       "border": null,
       "bottom": null,
       "display": null,
       "flex": null,
       "flex_flow": null,
       "grid_area": null,
       "grid_auto_columns": null,
       "grid_auto_flow": null,
       "grid_auto_rows": null,
       "grid_column": null,
       "grid_gap": null,
       "grid_row": null,
       "grid_template_areas": null,
       "grid_template_columns": null,
       "grid_template_rows": null,
       "height": null,
       "justify_content": null,
       "justify_items": null,
       "left": null,
       "margin": null,
       "max_height": null,
       "max_width": null,
       "min_height": null,
       "min_width": null,
       "object_fit": null,
       "object_position": null,
       "order": null,
       "overflow": null,
       "overflow_x": null,
       "overflow_y": null,
       "padding": null,
       "right": null,
       "top": null,
       "visibility": null,
       "width": null
      }
     },
     "47b920bca77d42fd8283d1d7d2bac233": {
      "model_module": "@jupyter-widgets/controls",
      "model_module_version": "1.5.0",
      "model_name": "FloatProgressModel",
      "state": {
       "_dom_classes": [],
       "_model_module": "@jupyter-widgets/controls",
       "_model_module_version": "1.5.0",
       "_model_name": "FloatProgressModel",
       "_view_count": null,
       "_view_module": "@jupyter-widgets/controls",
       "_view_module_version": "1.5.0",
       "_view_name": "ProgressView",
       "bar_style": "success",
       "description": "",
       "description_tooltip": null,
       "layout": "IPY_MODEL_f18bdbfe01cd44cb9a1236540be10429",
       "max": 449.0,
       "min": 0.0,
       "orientation": "horizontal",
       "style": "IPY_MODEL_b385af8cec474c25bc90b9dde9773ff6",
       "value": 449.0
      }
     },
     "511ddf464bc74e738eebba8070fc45b3": {
      "model_module": "@jupyter-widgets/controls",
      "model_module_version": "1.5.0",
      "model_name": "ProgressStyleModel",
      "state": {
       "_model_module": "@jupyter-widgets/controls",
       "_model_module_version": "1.5.0",
       "_model_name": "ProgressStyleModel",
       "_view_count": null,
       "_view_module": "@jupyter-widgets/base",
       "_view_module_version": "1.2.0",
       "_view_name": "StyleView",
       "bar_color": null,
       "description_width": ""
      }
     },
     "5727b542a0904f7c88302bf558bd20d5": {
      "model_module": "@jupyter-widgets/base",
      "model_module_version": "1.2.0",
      "model_name": "LayoutModel",
      "state": {
       "_model_module": "@jupyter-widgets/base",
       "_model_module_version": "1.2.0",
       "_model_name": "LayoutModel",
       "_view_count": null,
       "_view_module": "@jupyter-widgets/base",
       "_view_module_version": "1.2.0",
       "_view_name": "LayoutView",
       "align_content": null,
       "align_items": null,
       "align_self": null,
       "border": null,
       "bottom": null,
       "display": null,
       "flex": null,
       "flex_flow": null,
       "grid_area": null,
       "grid_auto_columns": null,
       "grid_auto_flow": null,
       "grid_auto_rows": null,
       "grid_column": null,
       "grid_gap": null,
       "grid_row": null,
       "grid_template_areas": null,
       "grid_template_columns": null,
       "grid_template_rows": null,
       "height": null,
       "justify_content": null,
       "justify_items": null,
       "left": null,
       "margin": null,
       "max_height": null,
       "max_width": null,
       "min_height": null,
       "min_width": null,
       "object_fit": null,
       "object_position": null,
       "order": null,
       "overflow": null,
       "overflow_x": null,
       "overflow_y": null,
       "padding": null,
       "right": null,
       "top": null,
       "visibility": null,
       "width": null
      }
     },
     "5b957dbe98fb4a3788e4d652a78595bb": {
      "model_module": "@jupyter-widgets/controls",
      "model_module_version": "1.5.0",
      "model_name": "DescriptionStyleModel",
      "state": {
       "_model_module": "@jupyter-widgets/controls",
       "_model_module_version": "1.5.0",
       "_model_name": "DescriptionStyleModel",
       "_view_count": null,
       "_view_module": "@jupyter-widgets/base",
       "_view_module_version": "1.2.0",
       "_view_name": "StyleView",
       "description_width": ""
      }
     },
     "74f3ede6deb34f61945e708d9fd6a1c1": {
      "model_module": "@jupyter-widgets/controls",
      "model_module_version": "1.5.0",
      "model_name": "FloatProgressModel",
      "state": {
       "_dom_classes": [],
       "_model_module": "@jupyter-widgets/controls",
       "_model_module_version": "1.5.0",
       "_model_name": "FloatProgressModel",
       "_view_count": null,
       "_view_module": "@jupyter-widgets/controls",
       "_view_module_version": "1.5.0",
       "_view_name": "ProgressView",
       "bar_style": "success",
       "description": "",
       "description_tooltip": null,
       "layout": "IPY_MODEL_2b9eea7912354008ab948ec788470b69",
       "max": 9085698.0,
       "min": 0.0,
       "orientation": "horizontal",
       "style": "IPY_MODEL_044750ddeef7449883c1b3338fd602a1",
       "value": 9085698.0
      }
     },
     "78331dbaafed4688b95a59a2bee3686e": {
      "model_module": "@jupyter-widgets/controls",
      "model_module_version": "1.5.0",
      "model_name": "FloatProgressModel",
      "state": {
       "_dom_classes": [],
       "_model_module": "@jupyter-widgets/controls",
       "_model_module_version": "1.5.0",
       "_model_name": "FloatProgressModel",
       "_view_count": null,
       "_view_module": "@jupyter-widgets/controls",
       "_view_module_version": "1.5.0",
       "_view_name": "ProgressView",
       "bar_style": "success",
       "description": "",
       "description_tooltip": null,
       "layout": "IPY_MODEL_d1860929422c47b09c45f32362211275",
       "max": 50599.0,
       "min": 0.0,
       "orientation": "horizontal",
       "style": "IPY_MODEL_511ddf464bc74e738eebba8070fc45b3",
       "value": 50599.0
      }
     },
     "810f3ea1238d4786b358cd6859857588": {
      "model_module": "@jupyter-widgets/controls",
      "model_module_version": "1.5.0",
      "model_name": "DescriptionStyleModel",
      "state": {
       "_model_module": "@jupyter-widgets/controls",
       "_model_module_version": "1.5.0",
       "_model_name": "DescriptionStyleModel",
       "_view_count": null,
       "_view_module": "@jupyter-widgets/base",
       "_view_module_version": "1.2.0",
       "_view_name": "StyleView",
       "description_width": ""
      }
     },
     "8973ae7585234a099554fba96b5f2909": {
      "model_module": "@jupyter-widgets/base",
      "model_module_version": "1.2.0",
      "model_name": "LayoutModel",
      "state": {
       "_model_module": "@jupyter-widgets/base",
       "_model_module_version": "1.2.0",
       "_model_name": "LayoutModel",
       "_view_count": null,
       "_view_module": "@jupyter-widgets/base",
       "_view_module_version": "1.2.0",
       "_view_name": "LayoutView",
       "align_content": null,
       "align_items": null,
       "align_self": null,
       "border": null,
       "bottom": null,
       "display": null,
       "flex": null,
       "flex_flow": null,
       "grid_area": null,
       "grid_auto_columns": null,
       "grid_auto_flow": null,
       "grid_auto_rows": null,
       "grid_column": null,
       "grid_gap": null,
       "grid_row": null,
       "grid_template_areas": null,
       "grid_template_columns": null,
       "grid_template_rows": null,
       "height": null,
       "justify_content": null,
       "justify_items": null,
       "left": null,
       "margin": null,
       "max_height": null,
       "max_width": null,
       "min_height": null,
       "min_width": null,
       "object_fit": null,
       "object_position": null,
       "order": null,
       "overflow": null,
       "overflow_x": null,
       "overflow_y": null,
       "padding": null,
       "right": null,
       "top": null,
       "visibility": null,
       "width": null
      }
     },
     "8b556896b2ae45bc80eba638181c6d18": {
      "model_module": "@jupyter-widgets/controls",
      "model_module_version": "1.5.0",
      "model_name": "DescriptionStyleModel",
      "state": {
       "_model_module": "@jupyter-widgets/controls",
       "_model_module_version": "1.5.0",
       "_model_name": "DescriptionStyleModel",
       "_view_count": null,
       "_view_module": "@jupyter-widgets/base",
       "_view_module_version": "1.2.0",
       "_view_name": "StyleView",
       "description_width": ""
      }
     },
     "8f2cb2acc024417bb968375de1359d6a": {
      "model_module": "@jupyter-widgets/controls",
      "model_module_version": "1.5.0",
      "model_name": "HBoxModel",
      "state": {
       "_dom_classes": [],
       "_model_module": "@jupyter-widgets/controls",
       "_model_module_version": "1.5.0",
       "_model_name": "HBoxModel",
       "_view_count": null,
       "_view_module": "@jupyter-widgets/controls",
       "_view_module_version": "1.5.0",
       "_view_name": "HBoxView",
       "box_style": "",
       "children": [
        "IPY_MODEL_c64c7f97c3ea42f5a9ba8df874389426",
        "IPY_MODEL_47b920bca77d42fd8283d1d7d2bac233",
        "IPY_MODEL_2fc86e263f9b48bdbf00490be23f9fd3"
       ],
       "layout": "IPY_MODEL_3fb2be96b8ba41248518fd0e772bd2d7"
      }
     },
     "935173357de44184a50928945d87709d": {
      "model_module": "@jupyter-widgets/base",
      "model_module_version": "1.2.0",
      "model_name": "LayoutModel",
      "state": {
       "_model_module": "@jupyter-widgets/base",
       "_model_module_version": "1.2.0",
       "_model_name": "LayoutModel",
       "_view_count": null,
       "_view_module": "@jupyter-widgets/base",
       "_view_module_version": "1.2.0",
       "_view_name": "LayoutView",
       "align_content": null,
       "align_items": null,
       "align_self": null,
       "border": null,
       "bottom": null,
       "display": null,
       "flex": null,
       "flex_flow": null,
       "grid_area": null,
       "grid_auto_columns": null,
       "grid_auto_flow": null,
       "grid_auto_rows": null,
       "grid_column": null,
       "grid_gap": null,
       "grid_row": null,
       "grid_template_areas": null,
       "grid_template_columns": null,
       "grid_template_rows": null,
       "height": null,
       "justify_content": null,
       "justify_items": null,
       "left": null,
       "margin": null,
       "max_height": null,
       "max_width": null,
       "min_height": null,
       "min_width": null,
       "object_fit": null,
       "object_position": null,
       "order": null,
       "overflow": null,
       "overflow_x": null,
       "overflow_y": null,
       "padding": null,
       "right": null,
       "top": null,
       "visibility": null,
       "width": null
      }
     },
     "9681bdb179bc40dfbcf8b096033e6698": {
      "model_module": "@jupyter-widgets/base",
      "model_module_version": "1.2.0",
      "model_name": "LayoutModel",
      "state": {
       "_model_module": "@jupyter-widgets/base",
       "_model_module_version": "1.2.0",
       "_model_name": "LayoutModel",
       "_view_count": null,
       "_view_module": "@jupyter-widgets/base",
       "_view_module_version": "1.2.0",
       "_view_name": "LayoutView",
       "align_content": null,
       "align_items": null,
       "align_self": null,
       "border": null,
       "bottom": null,
       "display": null,
       "flex": null,
       "flex_flow": null,
       "grid_area": null,
       "grid_auto_columns": null,
       "grid_auto_flow": null,
       "grid_auto_rows": null,
       "grid_column": null,
       "grid_gap": null,
       "grid_row": null,
       "grid_template_areas": null,
       "grid_template_columns": null,
       "grid_template_rows": null,
       "height": null,
       "justify_content": null,
       "justify_items": null,
       "left": null,
       "margin": null,
       "max_height": null,
       "max_width": null,
       "min_height": null,
       "min_width": null,
       "object_fit": null,
       "object_position": null,
       "order": null,
       "overflow": null,
       "overflow_x": null,
       "overflow_y": null,
       "padding": null,
       "right": null,
       "top": null,
       "visibility": null,
       "width": null
      }
     },
     "a5bff52ea4f54b5286c97bd6a71d1ed0": {
      "model_module": "@jupyter-widgets/base",
      "model_module_version": "1.2.0",
      "model_name": "LayoutModel",
      "state": {
       "_model_module": "@jupyter-widgets/base",
       "_model_module_version": "1.2.0",
       "_model_name": "LayoutModel",
       "_view_count": null,
       "_view_module": "@jupyter-widgets/base",
       "_view_module_version": "1.2.0",
       "_view_name": "LayoutView",
       "align_content": null,
       "align_items": null,
       "align_self": null,
       "border": null,
       "bottom": null,
       "display": null,
       "flex": null,
       "flex_flow": null,
       "grid_area": null,
       "grid_auto_columns": null,
       "grid_auto_flow": null,
       "grid_auto_rows": null,
       "grid_column": null,
       "grid_gap": null,
       "grid_row": null,
       "grid_template_areas": null,
       "grid_template_columns": null,
       "grid_template_rows": null,
       "height": null,
       "justify_content": null,
       "justify_items": null,
       "left": null,
       "margin": null,
       "max_height": null,
       "max_width": null,
       "min_height": null,
       "min_width": null,
       "object_fit": null,
       "object_position": null,
       "order": null,
       "overflow": null,
       "overflow_x": null,
       "overflow_y": null,
       "padding": null,
       "right": null,
       "top": null,
       "visibility": null,
       "width": null
      }
     },
     "b0a250ea9794484891926a6062f7497e": {
      "model_module": "@jupyter-widgets/controls",
      "model_module_version": "1.5.0",
      "model_name": "DescriptionStyleModel",
      "state": {
       "_model_module": "@jupyter-widgets/controls",
       "_model_module_version": "1.5.0",
       "_model_name": "DescriptionStyleModel",
       "_view_count": null,
       "_view_module": "@jupyter-widgets/base",
       "_view_module_version": "1.2.0",
       "_view_name": "StyleView",
       "description_width": ""
      }
     },
     "b109c99b83924178a305cd69c2be3f8e": {
      "model_module": "@jupyter-widgets/controls",
      "model_module_version": "1.5.0",
      "model_name": "HTMLModel",
      "state": {
       "_dom_classes": [],
       "_model_module": "@jupyter-widgets/controls",
       "_model_module_version": "1.5.0",
       "_model_name": "HTMLModel",
       "_view_count": null,
       "_view_module": "@jupyter-widgets/controls",
       "_view_module_version": "1.5.0",
       "_view_name": "HTMLView",
       "description": "",
       "description_tooltip": null,
       "layout": "IPY_MODEL_d67f5575da4140348e70c4cd8e37dc62",
       "placeholder": "​",
       "style": "IPY_MODEL_1b4c4f47064a4c1abde402d1d1b93b77",
       "value": " 50.6k/50.6k [00:00&lt;00:00, 259kB/s]"
      }
     },
     "b385af8cec474c25bc90b9dde9773ff6": {
      "model_module": "@jupyter-widgets/controls",
      "model_module_version": "1.5.0",
      "model_name": "ProgressStyleModel",
      "state": {
       "_model_module": "@jupyter-widgets/controls",
       "_model_module_version": "1.5.0",
       "_model_name": "ProgressStyleModel",
       "_view_count": null,
       "_view_module": "@jupyter-widgets/base",
       "_view_module_version": "1.2.0",
       "_view_name": "StyleView",
       "bar_color": null,
       "description_width": ""
      }
     },
     "b5d28a95e6974de2857f3a044f4dcb30": {
      "model_module": "@jupyter-widgets/controls",
      "model_module_version": "1.5.0",
      "model_name": "HBoxModel",
      "state": {
       "_dom_classes": [],
       "_model_module": "@jupyter-widgets/controls",
       "_model_module_version": "1.5.0",
       "_model_name": "HBoxModel",
       "_view_count": null,
       "_view_module": "@jupyter-widgets/controls",
       "_view_module_version": "1.5.0",
       "_view_name": "HBoxView",
       "box_style": "",
       "children": [
        "IPY_MODEL_ea492001f13a40c5b115c70f6af41c5e",
        "IPY_MODEL_78331dbaafed4688b95a59a2bee3686e",
        "IPY_MODEL_b109c99b83924178a305cd69c2be3f8e"
       ],
       "layout": "IPY_MODEL_a5bff52ea4f54b5286c97bd6a71d1ed0"
      }
     },
     "b8c3cceb52684d62b529e006a554ded2": {
      "model_module": "@jupyter-widgets/base",
      "model_module_version": "1.2.0",
      "model_name": "LayoutModel",
      "state": {
       "_model_module": "@jupyter-widgets/base",
       "_model_module_version": "1.2.0",
       "_model_name": "LayoutModel",
       "_view_count": null,
       "_view_module": "@jupyter-widgets/base",
       "_view_module_version": "1.2.0",
       "_view_name": "LayoutView",
       "align_content": null,
       "align_items": null,
       "align_self": null,
       "border": null,
       "bottom": null,
       "display": null,
       "flex": null,
       "flex_flow": null,
       "grid_area": null,
       "grid_auto_columns": null,
       "grid_auto_flow": null,
       "grid_auto_rows": null,
       "grid_column": null,
       "grid_gap": null,
       "grid_row": null,
       "grid_template_areas": null,
       "grid_template_columns": null,
       "grid_template_rows": null,
       "height": null,
       "justify_content": null,
       "justify_items": null,
       "left": null,
       "margin": null,
       "max_height": null,
       "max_width": null,
       "min_height": null,
       "min_width": null,
       "object_fit": null,
       "object_position": null,
       "order": null,
       "overflow": null,
       "overflow_x": null,
       "overflow_y": null,
       "padding": null,
       "right": null,
       "top": null,
       "visibility": null,
       "width": null
      }
     },
     "c64c7f97c3ea42f5a9ba8df874389426": {
      "model_module": "@jupyter-widgets/controls",
      "model_module_version": "1.5.0",
      "model_name": "HTMLModel",
      "state": {
       "_dom_classes": [],
       "_model_module": "@jupyter-widgets/controls",
       "_model_module_version": "1.5.0",
       "_model_name": "HTMLModel",
       "_view_count": null,
       "_view_module": "@jupyter-widgets/controls",
       "_view_module_version": "1.5.0",
       "_view_name": "HTMLView",
       "description": "",
       "description_tooltip": null,
       "layout": "IPY_MODEL_935173357de44184a50928945d87709d",
       "placeholder": "​",
       "style": "IPY_MODEL_cafff592d01848c5af4702e958137af5",
       "value": "special_tokens_map.json: 100%"
      }
     },
     "cafff592d01848c5af4702e958137af5": {
      "model_module": "@jupyter-widgets/controls",
      "model_module_version": "1.5.0",
      "model_name": "DescriptionStyleModel",
      "state": {
       "_model_module": "@jupyter-widgets/controls",
       "_model_module_version": "1.5.0",
       "_model_name": "DescriptionStyleModel",
       "_view_count": null,
       "_view_module": "@jupyter-widgets/base",
       "_view_module_version": "1.2.0",
       "_view_name": "StyleView",
       "description_width": ""
      }
     },
     "d1860929422c47b09c45f32362211275": {
      "model_module": "@jupyter-widgets/base",
      "model_module_version": "1.2.0",
      "model_name": "LayoutModel",
      "state": {
       "_model_module": "@jupyter-widgets/base",
       "_model_module_version": "1.2.0",
       "_model_name": "LayoutModel",
       "_view_count": null,
       "_view_module": "@jupyter-widgets/base",
       "_view_module_version": "1.2.0",
       "_view_name": "LayoutView",
       "align_content": null,
       "align_items": null,
       "align_self": null,
       "border": null,
       "bottom": null,
       "display": null,
       "flex": null,
       "flex_flow": null,
       "grid_area": null,
       "grid_auto_columns": null,
       "grid_auto_flow": null,
       "grid_auto_rows": null,
       "grid_column": null,
       "grid_gap": null,
       "grid_row": null,
       "grid_template_areas": null,
       "grid_template_columns": null,
       "grid_template_rows": null,
       "height": null,
       "justify_content": null,
       "justify_items": null,
       "left": null,
       "margin": null,
       "max_height": null,
       "max_width": null,
       "min_height": null,
       "min_width": null,
       "object_fit": null,
       "object_position": null,
       "order": null,
       "overflow": null,
       "overflow_x": null,
       "overflow_y": null,
       "padding": null,
       "right": null,
       "top": null,
       "visibility": null,
       "width": null
      }
     },
     "d2643769f2d0480cb14d6fa0f2dcc18d": {
      "model_module": "@jupyter-widgets/controls",
      "model_module_version": "1.5.0",
      "model_name": "HTMLModel",
      "state": {
       "_dom_classes": [],
       "_model_module": "@jupyter-widgets/controls",
       "_model_module_version": "1.5.0",
       "_model_name": "HTMLModel",
       "_view_count": null,
       "_view_module": "@jupyter-widgets/controls",
       "_view_module_version": "1.5.0",
       "_view_name": "HTMLView",
       "description": "",
       "description_tooltip": null,
       "layout": "IPY_MODEL_9681bdb179bc40dfbcf8b096033e6698",
       "placeholder": "​",
       "style": "IPY_MODEL_5b957dbe98fb4a3788e4d652a78595bb",
       "value": " 9.09M/9.09M [00:01&lt;00:00, 6.46MB/s]"
      }
     },
     "d28e40c1f80f429890b6e9662377c717": {
      "model_module": "@jupyter-widgets/controls",
      "model_module_version": "1.5.0",
      "model_name": "HTMLModel",
      "state": {
       "_dom_classes": [],
       "_model_module": "@jupyter-widgets/controls",
       "_model_module_version": "1.5.0",
       "_model_name": "HTMLModel",
       "_view_count": null,
       "_view_module": "@jupyter-widgets/controls",
       "_view_module_version": "1.5.0",
       "_view_name": "HTMLView",
       "description": "",
       "description_tooltip": null,
       "layout": "IPY_MODEL_8973ae7585234a099554fba96b5f2909",
       "placeholder": "​",
       "style": "IPY_MODEL_8b556896b2ae45bc80eba638181c6d18",
       "value": "tokenizer.json: 100%"
      }
     },
     "d67f5575da4140348e70c4cd8e37dc62": {
      "model_module": "@jupyter-widgets/base",
      "model_module_version": "1.2.0",
      "model_name": "LayoutModel",
      "state": {
       "_model_module": "@jupyter-widgets/base",
       "_model_module_version": "1.2.0",
       "_model_name": "LayoutModel",
       "_view_count": null,
       "_view_module": "@jupyter-widgets/base",
       "_view_module_version": "1.2.0",
       "_view_name": "LayoutView",
       "align_content": null,
       "align_items": null,
       "align_self": null,
       "border": null,
       "bottom": null,
       "display": null,
       "flex": null,
       "flex_flow": null,
       "grid_area": null,
       "grid_auto_columns": null,
       "grid_auto_flow": null,
       "grid_auto_rows": null,
       "grid_column": null,
       "grid_gap": null,
       "grid_row": null,
       "grid_template_areas": null,
       "grid_template_columns": null,
       "grid_template_rows": null,
       "height": null,
       "justify_content": null,
       "justify_items": null,
       "left": null,
       "margin": null,
       "max_height": null,
       "max_width": null,
       "min_height": null,
       "min_width": null,
       "object_fit": null,
       "object_position": null,
       "order": null,
       "overflow": null,
       "overflow_x": null,
       "overflow_y": null,
       "padding": null,
       "right": null,
       "top": null,
       "visibility": null,
       "width": null
      }
     },
     "ea492001f13a40c5b115c70f6af41c5e": {
      "model_module": "@jupyter-widgets/controls",
      "model_module_version": "1.5.0",
      "model_name": "HTMLModel",
      "state": {
       "_dom_classes": [],
       "_model_module": "@jupyter-widgets/controls",
       "_model_module_version": "1.5.0",
       "_model_name": "HTMLModel",
       "_view_count": null,
       "_view_module": "@jupyter-widgets/controls",
       "_view_module_version": "1.5.0",
       "_view_name": "HTMLView",
       "description": "",
       "description_tooltip": null,
       "layout": "IPY_MODEL_248f034562f840df8b5e0e5f9cf7f714",
       "placeholder": "​",
       "style": "IPY_MODEL_810f3ea1238d4786b358cd6859857588",
       "value": "tokenizer_config.json: 100%"
      }
     },
     "f18bdbfe01cd44cb9a1236540be10429": {
      "model_module": "@jupyter-widgets/base",
      "model_module_version": "1.2.0",
      "model_name": "LayoutModel",
      "state": {
       "_model_module": "@jupyter-widgets/base",
       "_model_module_version": "1.2.0",
       "_model_name": "LayoutModel",
       "_view_count": null,
       "_view_module": "@jupyter-widgets/base",
       "_view_module_version": "1.2.0",
       "_view_name": "LayoutView",
       "align_content": null,
       "align_items": null,
       "align_self": null,
       "border": null,
       "bottom": null,
       "display": null,
       "flex": null,
       "flex_flow": null,
       "grid_area": null,
       "grid_auto_columns": null,
       "grid_auto_flow": null,
       "grid_auto_rows": null,
       "grid_column": null,
       "grid_gap": null,
       "grid_row": null,
       "grid_template_areas": null,
       "grid_template_columns": null,
       "grid_template_rows": null,
       "height": null,
       "justify_content": null,
       "justify_items": null,
       "left": null,
       "margin": null,
       "max_height": null,
       "max_width": null,
       "min_height": null,
       "min_width": null,
       "object_fit": null,
       "object_position": null,
       "order": null,
       "overflow": null,
       "overflow_x": null,
       "overflow_y": null,
       "padding": null,
       "right": null,
       "top": null,
       "visibility": null,
       "width": null
      }
     }
    },
    "version_major": 2,
    "version_minor": 0
   }
  }
 },
 "nbformat": 4,
 "nbformat_minor": 5
}
